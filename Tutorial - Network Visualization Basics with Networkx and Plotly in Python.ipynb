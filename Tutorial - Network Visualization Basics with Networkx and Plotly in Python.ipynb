{
 "cells": [
  {
   "cell_type": "markdown",
   "metadata": {},
   "source": [
    "# [Tutorial: Network Visualization Basics with Networkx and Plotly in Python](https://towardsdatascience.com/tutorial-network-visualization-basics-with-networkx-and-plotly-and-a-little-nlp-57c9bbb55bb9)\n",
    "From a Shakespeare script to a network graph<br>\n",
    "https://github.com/rweng18/midsummer_network"
   ]
  },
  {
   "cell_type": "code",
   "execution_count": 16,
   "metadata": {},
   "outputs": [],
   "source": [
    "from typing import Dict, List"
   ]
  },
  {
   "cell_type": "code",
   "execution_count": 1,
   "metadata": {},
   "outputs": [],
   "source": [
    "# Import packages for data cleaning\n",
    "import numpy as np\n",
    "import pandas as pd\n",
    "import re # For finding specific strings in the text"
   ]
  },
  {
   "cell_type": "code",
   "execution_count": 2,
   "metadata": {},
   "outputs": [],
   "source": [
    "# Import packages for data visualization\n",
    "import plotly.offline as py\n",
    "import plotly.graph_objects as go\n",
    "import networkx as nx"
   ]
  },
  {
   "cell_type": "markdown",
   "metadata": {},
   "source": [
    "## [Load the data](https://www.gutenberg.org/ebooks/1514)"
   ]
  },
  {
   "cell_type": "code",
   "execution_count": 5,
   "metadata": {},
   "outputs": [],
   "source": [
    "f = open(\"./tutorial_data/midsummer.txt\", \"r\")\n",
    "whole_text = f.read()"
   ]
  },
  {
   "cell_type": "code",
   "execution_count": 9,
   "metadata": {},
   "outputs": [
    {
     "name": "stdout",
     "output_type": "stream",
     "text": [
      "﻿\n",
      "Project Gutenberg’s A Midsummer Night’s Dream, by William Shakespeare\n",
      "\n",
      "This eBook is for the use of anyone anywhere in the United States and\n",
      "most other parts of the world at no cost and with almost no restrictions\n",
      "whatsoever.  You may copy it, give it away or re-use it under the terms\n",
      "of the Project Gutenberg License included with this eBook or online at\n",
      "www.gutenberg.org.  If you are not located in the United States, you’ll\n",
      "have to check the laws of the country where you are located before using\n",
      "this ebook.\n",
      "\n",
      "\n",
      "\n",
      "Title: A Midsummer Night’s Dream\n",
      "\n",
      "Author: William Shakespeare\n",
      "\n",
      "Release Date: November, 1998 [Etext #1514]\n",
      "Last Updated: February 14, 2019\n",
      "\n",
      "Language: English\n",
      "\n",
      "Character set encoding: UTF-8\n",
      "\n",
      "*** START OF THIS PROJECT GUTENBERG EBOOK A MIDSUMMER NIGHT’S DREAM ***\n",
      "\n",
      "\n",
      "\n",
      "This etext was prepared by the PG Shakespeare Team,\n",
      "a team of about twenty Project Gutenberg volunteers.\n",
      "HTML version prepared by Joseph E. Loewenstein, M.D.\n",
      "\n",
      "\n",
      "\n",
      "cover \n",
      "\n",
      "\n",
      "\n",
      "A MIDSUMMER NIGHT’S DREAM\n",
      "\n",
      "\n",
      "\n",
      "by William Shakespeare\n",
      "\n",
      "\n",
      "\n",
      "Contents\n",
      "\n",
      "\n",
      "\n",
      "ACT\n"
     ]
    }
   ],
   "source": [
    "print(whole_text[:1024])"
   ]
  },
  {
   "cell_type": "markdown",
   "metadata": {},
   "source": [
    "## Extract features"
   ]
  },
  {
   "cell_type": "code",
   "execution_count": 10,
   "metadata": {},
   "outputs": [
    {
     "name": "stdout",
     "output_type": "stream",
     "text": [
      "10\n"
     ]
    }
   ],
   "source": [
    "scenes = whole_text.split('SCENE ')\n",
    "print(len(scenes))"
   ]
  },
  {
   "cell_type": "code",
   "execution_count": 12,
   "metadata": {},
   "outputs": [
    {
     "name": "stdout",
     "output_type": "stream",
     "text": [
      "﻿\n",
      "Project Gutenberg’s A Midsummer Night’s Dream, by William Shakespeare\n",
      "\n",
      "This eBook is for the use of anyone anywhere in the United States and\n",
      "most other parts of the world at no cost and with almost no restrictions\n",
      "whatsoever.  You may copy it, give it away or re-use it under the terms\n",
      "of the Project Gutenberg License included with this eBook or online at\n",
      "www.gutenberg.org.  If you are not located in the United States, you’ll\n",
      "have to check the laws of the country where you are located before using\n",
      "this ebook.\n",
      "\n",
      "\n",
      "\n",
      "Title: A Midsummer Night’s Dream\n",
      "\n",
      "Author: William Shakespeare\n",
      "\n",
      "Release Date: November, 1998 [Etext #1514]\n",
      "Last Updated: February 14, 2019\n",
      "\n",
      "Language: English\n",
      "\n",
      "Character set encoding: UTF-8\n",
      "\n",
      "*** START OF THIS PROJECT GUTENBERG EBOOK A MIDSUMMER NIGHT’S DREAM ***\n",
      "\n",
      "\n",
      "\n",
      "This etext was prepared by the PG Shakespeare Team,\n",
      "a team of about twenty Project Gutenberg volunteers.\n",
      "HTML version prepared by Joseph E. Loewenstein, M.D.\n",
      "\n",
      "\n",
      "\n",
      "cover \n",
      "\n",
      "\n",
      "\n",
      "A MIDSUMMER NIGHT’S DREAM\n",
      "\n",
      "\n",
      "\n",
      "by William Shakespeare\n",
      "\n",
      "\n",
      "\n",
      "Contents\n",
      "\n",
      "\n",
      "\n",
      "ACT I\n",
      "Scene I.\n",
      "Athens. A room in the Palace of Theseus\n",
      "Scene II.\n",
      "The Same. A Room in a Cottage\n",
      "\n",
      "ACT II\n",
      "Scene I.\n",
      "A wood near Athens\n",
      "Scene II.\n",
      "Another part of the wood\n",
      "\n",
      "ACT III\n",
      "Scene I.\n",
      "The Wood.\n",
      "Scene II.\n",
      "Another part of the wood\n",
      "\n",
      "ACT IV\n",
      "Scene I.\n",
      "The Wood\n",
      "Scene II.\n",
      "Athens. A Room in Quince’s House\n",
      "\n",
      "ACT V\n",
      "Scene I.\n",
      "Athens. An Apartment in the Palace of Theseus\n",
      "\n",
      "\n",
      "\n",
      "Dramatis Personæ\n",
      "\n",
      "THESEUS, Duke of Athens\n",
      "HIPPOLYTA, Queen of the Amazons, bethrothed to Theseus\n",
      "EGEUS, Father to Hermia\n",
      "HERMIA, daughter to Egeus, in love with Lysander\n",
      "HELENA, in love with Demetrius\n",
      "LYSANDER, in love with Hermia\n",
      "DEMETRIUS, in love with Hermia\n",
      "PHILOSTRATE, Master of the Revels to Theseus\n",
      "\n",
      "QUINCE, the Carpenter\n",
      "SNUG, the Joiner\n",
      "BOTTOM, the Weaver\n",
      "FLUTE, the Bellows-mender\n",
      "SNOUT, the Tinker\n",
      "STARVELING, the Tailor\n",
      "\n",
      "OBERON, King of the Fairies\n",
      "TITANIA, Queen of the Fairies\n",
      "PUCK, or ROBIN GOODFELLOW, a Fairy\n",
      "PEASEBLOSSOM, Fairy\n",
      "COBWEB, Fairy\n",
      "MOTH, Fairy\n",
      "MUSTARDSEED, Fairy\n",
      "\n",
      "PYRAMUS, THISBE, WALL, MOONSHINE, LION; Characters in the Interlude\n",
      "performed by the Clowns\n",
      "\n",
      "Other Fairies attending their King and Queen\n",
      "Attendants on Theseus and Hippolyta\n",
      "\n",
      "SCENE: Athens, and a wood not far from it\n",
      "\n",
      "\n",
      "\n",
      "ACT I\n",
      "\n",
      "\n"
     ]
    }
   ],
   "source": [
    "print(scenes[0])"
   ]
  },
  {
   "cell_type": "code",
   "execution_count": 13,
   "metadata": {},
   "outputs": [
    {
     "data": {
      "text/plain": [
       "['Theseus',\n",
       " 'Hippolyta',\n",
       " 'Egeus',\n",
       " 'Hermia',\n",
       " 'Helena',\n",
       " 'Lysander',\n",
       " 'Demetrius',\n",
       " 'Philostrate',\n",
       " 'Quince',\n",
       " 'Snug',\n",
       " 'Bottom',\n",
       " 'Flute',\n",
       " 'Snout',\n",
       " 'Starveling',\n",
       " 'Oberon',\n",
       " 'Titania',\n",
       " 'Puck',\n",
       " 'Goodfellow',\n",
       " 'Peaseblossom',\n",
       " 'Cobweb',\n",
       " 'Moth',\n",
       " 'Mustardseed',\n",
       " 'Pyramus',\n",
       " 'Thisbe',\n",
       " 'Wall',\n",
       " 'Moonshine',\n",
       " 'Lion']"
      ]
     },
     "execution_count": 13,
     "metadata": {},
     "output_type": "execute_result"
    }
   ],
   "source": [
    "characters = re.findall('[A-Z]+[,;]',scenes[0])\n",
    "characters = [name.strip(',').strip(';').title() for name in characters]\n",
    "characters"
   ]
  },
  {
   "cell_type": "code",
   "execution_count": 14,
   "metadata": {},
   "outputs": [],
   "source": [
    "characters.remove('Goodfellow') # Puck = Goodfellow\n",
    "characters.append('Fairies')\n",
    "characters.append('Attendants')"
   ]
  },
  {
   "cell_type": "code",
   "execution_count": 21,
   "metadata": {},
   "outputs": [],
   "source": [
    "internal_cast = {'Pyramus': 'Bottom', \n",
    "                 'Thisbe': 'Flute', \n",
    "                 'Wall': 'Snout', \n",
    "                 'Moonshine': 'Starveling', \n",
    "                 'Lion': 'Snug', \n",
    "                 'Prologue': 'Quince'}"
   ]
  },
  {
   "cell_type": "markdown",
   "metadata": {},
   "source": [
    "## Make empty appearances"
   ]
  },
  {
   "cell_type": "code",
   "execution_count": 19,
   "metadata": {},
   "outputs": [],
   "source": [
    "def get_empty_appearances(characters: List[str], num: bool = False) -> Dict[str, Dict[str, str]]:\n",
    "    appearances = {}\n",
    "    for character in characters:\n",
    "        companions = {}\n",
    "        for companion in characters:\n",
    "            if companion != character:\n",
    "                \n",
    "                if num:\n",
    "                    companions[companion] = 0\n",
    "                \n",
    "                else:\n",
    "                    companions[companion] = []\n",
    "        appearances[character] = companions\n",
    "    return appearances"
   ]
  },
  {
   "cell_type": "code",
   "execution_count": 20,
   "metadata": {},
   "outputs": [],
   "source": [
    "appearances = get_empty_appearances(characters)"
   ]
  },
  {
   "cell_type": "markdown",
   "metadata": {},
   "source": [
    "## Examine scenes\n",
    "Focus on 'Enter' and 'Exit'"
   ]
  },
  {
   "cell_type": "code",
   "execution_count": null,
   "metadata": {},
   "outputs": [],
   "source": []
  }
 ],
 "metadata": {
  "kernelspec": {
   "display_name": "Python 3",
   "language": "python",
   "name": "python3"
  },
  "language_info": {
   "codemirror_mode": {
    "name": "ipython",
    "version": 3
   },
   "file_extension": ".py",
   "mimetype": "text/x-python",
   "name": "python",
   "nbconvert_exporter": "python",
   "pygments_lexer": "ipython3",
   "version": "3.8.3"
  }
 },
 "nbformat": 4,
 "nbformat_minor": 4
}
