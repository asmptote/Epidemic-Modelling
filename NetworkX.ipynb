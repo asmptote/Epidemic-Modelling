{
 "cells": [
  {
   "cell_type": "markdown",
   "metadata": {},
   "source": [
    "#TODO: \n",
    "* add visualizations throughout\n",
    "* separate out into workbooks and expand\n",
    "* update with new functionalities to learn\n",
    "* integrate new tutorials"
   ]
  },
  {
   "cell_type": "markdown",
   "metadata": {},
   "source": [
    "This notebook is for learning NetworkX package. <br>\n",
    "Resources: \n",
    "* https://networkx.github.io/documentation/stable/tutorial.html#analyzing-graphs\n",
    "* https://www.datacamp.com/community/tutorials/networkx-python-graph-tutorial\n",
    "* https://www.analyticsvidhya.com/blog/2018/09/introduction-graph-theory-applications-python/\n",
    "* https://www.analyticsvidhya.com/blog/2020/04/community-detection-graphs-networks/\n"
   ]
  },
  {
   "cell_type": "markdown",
   "metadata": {},
   "source": [
    "NetworkX uses \"dictionary of dictionaries of dictionaries\" structure which allows fast lookups with sparse storage and attachments of data to edges"
   ]
  },
  {
   "cell_type": "code",
   "execution_count": 1,
   "metadata": {},
   "outputs": [],
   "source": [
    "import networkx as nx"
   ]
  },
  {
   "cell_type": "code",
   "execution_count": 2,
   "metadata": {},
   "outputs": [],
   "source": [
    "#create empty graph\n",
    "G=nx.Graph()"
   ]
  },
  {
   "cell_type": "code",
   "execution_count": 3,
   "metadata": {},
   "outputs": [
    {
     "data": {
      "text/plain": [
       "networkx.classes.graph.Graph"
      ]
     },
     "execution_count": 3,
     "metadata": {},
     "output_type": "execute_result"
    }
   ],
   "source": [
    "type(G)"
   ]
  },
  {
   "cell_type": "code",
   "execution_count": null,
   "metadata": {},
   "outputs": [],
   "source": [
    "# can also write or read in common formatj such as GML, GraphML, pickle, LEDA\n",
    "#nx.write_gml()\n",
    "#nx.read_gml()"
   ]
  },
  {
   "cell_type": "markdown",
   "metadata": {},
   "source": [
    "# Nodes"
   ]
  },
  {
   "cell_type": "code",
   "execution_count": 4,
   "metadata": {},
   "outputs": [
    {
     "data": {
      "text/plain": [
       "NodeView(())"
      ]
     },
     "execution_count": 4,
     "metadata": {},
     "output_type": "execute_result"
    }
   ],
   "source": [
    "G.nodes"
   ]
  },
  {
   "cell_type": "markdown",
   "metadata": {},
   "source": [
    "Nodes can be any hashable object, including customized objects - strings, images, XML, other graphs"
   ]
  },
  {
   "cell_type": "code",
   "execution_count": 5,
   "metadata": {},
   "outputs": [
    {
     "data": {
      "text/plain": [
       "NodeView((1,))"
      ]
     },
     "execution_count": 5,
     "metadata": {},
     "output_type": "execute_result"
    }
   ],
   "source": [
    "#add a single node\n",
    "G.add_node(1)\n",
    "G.nodes"
   ]
  },
  {
   "cell_type": "code",
   "execution_count": 6,
   "metadata": {},
   "outputs": [
    {
     "data": {
      "text/plain": [
       "NodeView((1, 2, 3))"
      ]
     },
     "execution_count": 6,
     "metadata": {},
     "output_type": "execute_result"
    }
   ],
   "source": [
    "#add list of nodes\n",
    "G.add_nodes_from([2,3])\n",
    "G.nodes"
   ]
  },
  {
   "cell_type": "code",
   "execution_count": 7,
   "metadata": {},
   "outputs": [
    {
     "name": "stdout",
     "output_type": "stream",
     "text": [
      "[0, 1, 2, 3, 4, 5, 6, 7, 8, 9]\n"
     ]
    },
    {
     "data": {
      "text/plain": [
       "NodeView((1, 2, 3, 0, 4, 5, 6, 7, 8, 9))"
      ]
     },
     "execution_count": 7,
     "metadata": {},
     "output_type": "execute_result"
    }
   ],
   "source": [
    "#add container of nodes - the nodes of H are now nodes of G\n",
    "H = nx.path_graph(10)\n",
    "print(H.nodes)\n",
    "\n",
    "G.add_nodes_from(H)\n",
    "G.nodes"
   ]
  },
  {
   "cell_type": "code",
   "execution_count": 8,
   "metadata": {},
   "outputs": [
    {
     "data": {
      "text/plain": [
       "NodeView((1, 2, 3, 0, 4, 5, 6, 7, 8, 9, 'spam', 's', 'p', 'a', 'm'))"
      ]
     },
     "execution_count": 8,
     "metadata": {},
     "output_type": "execute_result"
    }
   ],
   "source": [
    "# add_node adds entire object\n",
    "# add_nodes_from breaks object apart\n",
    "G.add_node(\"spam\")        # adds node \"spam\"\n",
    "G.add_nodes_from(\"spam\")  # adds 4 nodes: 's', 'p', 'a', 'm'\n",
    "\n",
    "G.nodes"
   ]
  },
  {
   "cell_type": "code",
   "execution_count": 9,
   "metadata": {},
   "outputs": [
    {
     "data": {
      "text/plain": [
       "NodeView((1, 2, 3, 0, 4, 5, 6, 7, 8, 9, 'spam', 's', 'p', 'a', 'm', <networkx.classes.graph.Graph object at 0x7f879643d760>))"
      ]
     },
     "execution_count": 9,
     "metadata": {},
     "output_type": "execute_result"
    }
   ],
   "source": [
    "# Add graph H as a node to G. Now have graph of graphs\n",
    "G.add_node(H)\n",
    "G.nodes"
   ]
  },
  {
   "cell_type": "code",
   "execution_count": 10,
   "metadata": {},
   "outputs": [
    {
     "name": "stdout",
     "output_type": "stream",
     "text": [
      "[0, 1, 2, 3, 4, 5, 6, 7, 8, 9, 10, 11, 12, 13, 14, 15]\n"
     ]
    }
   ],
   "source": [
    "# can convert the node objects to integers with:\n",
    "G=nx.convert_node_labels_to_integers(G)\n",
    "print(G.nodes)"
   ]
  },
  {
   "cell_type": "markdown",
   "metadata": {},
   "source": [
    "# Edges"
   ]
  },
  {
   "cell_type": "code",
   "execution_count": 11,
   "metadata": {},
   "outputs": [
    {
     "data": {
      "text/plain": [
       "EdgeView([(1, 2)])"
      ]
     },
     "execution_count": 11,
     "metadata": {},
     "output_type": "execute_result"
    }
   ],
   "source": [
    "# add a single edge\n",
    "G.add_edge(1,2)\n",
    "G.edges"
   ]
  },
  {
   "cell_type": "code",
   "execution_count": 12,
   "metadata": {},
   "outputs": [
    {
     "data": {
      "text/plain": [
       "EdgeView([(1, 2), (2, 3)])"
      ]
     },
     "execution_count": 12,
     "metadata": {},
     "output_type": "execute_result"
    }
   ],
   "source": [
    "# add single edge from tuple, unpack with '*'\n",
    "e=(2,3)\n",
    "G.add_edge(*e)\n",
    "G.edges"
   ]
  },
  {
   "cell_type": "code",
   "execution_count": 13,
   "metadata": {},
   "outputs": [
    {
     "data": {
      "text/plain": [
       "EdgeView([(1, 2), (1, 3), (2, 3)])"
      ]
     },
     "execution_count": 13,
     "metadata": {},
     "output_type": "execute_result"
    }
   ],
   "source": [
    "# add from list\n",
    "e1=[(1,2),(1,3)]\n",
    "G.add_edges_from(e1)\n",
    "G.edges"
   ]
  },
  {
   "cell_type": "code",
   "execution_count": 14,
   "metadata": {},
   "outputs": [
    {
     "name": "stdout",
     "output_type": "stream",
     "text": [
      "[(0, 1), (1, 2), (2, 3), (3, 4), (4, 5), (5, 6), (6, 7), (7, 8), (8, 9)]\n"
     ]
    },
    {
     "data": {
      "text/plain": [
       "EdgeView([(0, 1), (1, 2), (1, 3), (2, 3), (3, 4), (4, 5), (5, 6), (6, 7), (7, 8), (8, 9)])"
      ]
     },
     "execution_count": 14,
     "metadata": {},
     "output_type": "execute_result"
    }
   ],
   "source": [
    "# An ebunch is an iterable container of edge-tuples\n",
    "print(H.edges)\n",
    "\n",
    "G.add_edges_from(H.edges)\n",
    "G.edges"
   ]
  },
  {
   "cell_type": "markdown",
   "metadata": {},
   "source": [
    "# Removing Nodes and Edges"
   ]
  },
  {
   "cell_type": "code",
   "execution_count": 15,
   "metadata": {},
   "outputs": [
    {
     "name": "stdout",
     "output_type": "stream",
     "text": [
      "[0, 1, 2, 3, 4, 5, 6, 7, 8, 9, 10, 11, 12, 13, 14, 15]\n",
      "[(0, 1), (1, 2), (1, 3), (2, 3), (3, 4), (4, 5), (5, 6), (6, 7), (7, 8), (8, 9)]\n",
      "\n",
      " [0, 1, 3, 4, 5, 6, 7, 8, 9, 10, 11, 12, 13, 14, 15]\n",
      "[(0, 1), (1, 3), (3, 4), (4, 5), (5, 6), (6, 7), (7, 8), (8, 9)]\n"
     ]
    }
   ],
   "source": [
    "print(G.nodes);print(G.edges)\n",
    "\n",
    "G.remove_node(2)\n",
    "print('\\n',G.nodes);print(G.edges)"
   ]
  },
  {
   "cell_type": "code",
   "execution_count": 16,
   "metadata": {},
   "outputs": [
    {
     "name": "stdout",
     "output_type": "stream",
     "text": [
      "[0, 1, 3, 4, 5, 6, 7, 8, 9, 10, 11, 12, 13, 14, 15]\n"
     ]
    }
   ],
   "source": [
    "G.remove_nodes_from(\"spam\")\n",
    "print(G.nodes)"
   ]
  },
  {
   "cell_type": "code",
   "execution_count": 17,
   "metadata": {},
   "outputs": [
    {
     "name": "stdout",
     "output_type": "stream",
     "text": [
      "[(0, 1), (1, 3), (3, 4), (4, 5), (5, 6), (6, 7), (7, 8), (8, 9)]\n",
      "\n",
      " [(0, 1), (3, 4), (4, 5), (5, 6), (6, 7), (7, 8), (8, 9)]\n"
     ]
    }
   ],
   "source": [
    "print(G.edges)\n",
    "\n",
    "G.remove_edge(1,3)\n",
    "print('\\n',G.edges)"
   ]
  },
  {
   "cell_type": "markdown",
   "metadata": {},
   "source": [
    "# Duplicate Handling"
   ]
  },
  {
   "cell_type": "code",
   "execution_count": 18,
   "metadata": {},
   "outputs": [],
   "source": [
    "G.clear()"
   ]
  },
  {
   "cell_type": "code",
   "execution_count": 19,
   "metadata": {},
   "outputs": [
    {
     "data": {
      "text/plain": [
       "NodeView(())"
      ]
     },
     "execution_count": 19,
     "metadata": {},
     "output_type": "execute_result"
    }
   ],
   "source": [
    "G.nodes"
   ]
  },
  {
   "cell_type": "markdown",
   "metadata": {},
   "source": [
    "If add a node or edge that already exists, NetworkX ignores "
   ]
  },
  {
   "cell_type": "code",
   "execution_count": 20,
   "metadata": {},
   "outputs": [
    {
     "name": "stdout",
     "output_type": "stream",
     "text": [
      "[1, 2, 3]\n",
      "[(1, 2), (1, 3)]\n"
     ]
    }
   ],
   "source": [
    "# adding these edges, also adds the nodes\n",
    "G.add_edges_from([(1, 2), (1, 3)])\n",
    "print(G.nodes); print(G.edges)"
   ]
  },
  {
   "cell_type": "code",
   "execution_count": 21,
   "metadata": {},
   "outputs": [
    {
     "name": "stdout",
     "output_type": "stream",
     "text": [
      "[1, 2, 3]\n",
      "[(1, 2), (1, 3)]\n"
     ]
    }
   ],
   "source": [
    "# Adding nodes and edges that already exist doesn't change graph\n",
    "G.add_node(1)\n",
    "G.add_edge(1, 2)\n",
    "\n",
    "print(G.nodes); print(G.edges)"
   ]
  },
  {
   "cell_type": "markdown",
   "metadata": {},
   "source": [
    "# View Graph Properties"
   ]
  },
  {
   "cell_type": "markdown",
   "metadata": {},
   "source": [
    "these properties of the graph are continuously updated and read-only. Act like dictionaries"
   ]
  },
  {
   "cell_type": "code",
   "execution_count": 22,
   "metadata": {},
   "outputs": [],
   "source": [
    "# build up graph again\n",
    "G.add_nodes_from(\"spam\")\n",
    "G.add_node(\"spam\")\n",
    "G.add_edge(3,'m')"
   ]
  },
  {
   "cell_type": "code",
   "execution_count": 23,
   "metadata": {},
   "outputs": [
    {
     "name": "stdout",
     "output_type": "stream",
     "text": [
      "8\n",
      "3\n"
     ]
    }
   ],
   "source": [
    "# Already shown .edges and .nodes\n",
    "# There's also .number_of_nodes() and .number_of_edges()\n",
    "print(G.number_of_nodes())\n",
    "print(G.number_of_edges())"
   ]
  },
  {
   "cell_type": "code",
   "execution_count": 24,
   "metadata": {},
   "outputs": [
    {
     "name": "stdout",
     "output_type": "stream",
     "text": [
      "{1: {2: {}, 3: {}}, 2: {1: {}}, 3: {1: {}, 'm': {}}, 's': {}, 'p': {}, 'a': {}, 'm': {3: {}}, 'spam': {}}\n",
      "\n",
      " [2, 3]\n",
      "\n",
      " [2, 3]\n"
     ]
    }
   ],
   "source": [
    "#adjacency view shows adjacent nodes\n",
    "print(G.adj)\n",
    "print('\\n',list(G.adj[1]))\n",
    "\n",
    "#neighbors is similar but different type\n",
    "print('\\n',list(G.neighbors(1)))"
   ]
  },
  {
   "cell_type": "code",
   "execution_count": 25,
   "metadata": {},
   "outputs": [
    {
     "name": "stdout",
     "output_type": "stream",
     "text": [
      "[(1, 2), (2, 1), (3, 2), ('s', 0), ('p', 0), ('a', 0), ('m', 1), ('spam', 0)]\n"
     ]
    }
   ],
   "source": [
    "# degree view shows the degree of each node\n",
    "print(G.degree)"
   ]
  },
  {
   "cell_type": "code",
   "execution_count": 26,
   "metadata": {},
   "outputs": [
    {
     "name": "stdout",
     "output_type": "stream",
     "text": [
      "(1, AtlasView({2: {}, 3: {}}))\n",
      "(2, AtlasView({1: {}}))\n",
      "(3, AtlasView({1: {}, 'm': {}}))\n",
      "('s', AtlasView({}))\n",
      "('p', AtlasView({}))\n",
      "('a', AtlasView({}))\n",
      "('m', AtlasView({3: {}}))\n",
      "('spam', AtlasView({}))\n",
      "\n",
      "(2, {})\n",
      "(3, {})\n"
     ]
    }
   ],
   "source": [
    "# iterate using .items()\n",
    "for i in G.adj.items():\n",
    "    print(i)\n",
    "\n",
    "print(\"\")\n",
    "\n",
    "for i in G.adj[1].items():\n",
    "    print(i)"
   ]
  },
  {
   "cell_type": "code",
   "execution_count": 27,
   "metadata": {},
   "outputs": [
    {
     "name": "stdout",
     "output_type": "stream",
     "text": [
      "[(2, 1), ('m', 3)]\n",
      "[(2, 1), (3, 2)]\n"
     ]
    }
   ],
   "source": [
    "# nbunch - view edges and degree from a subset of nodes\n",
    "# Either a node or a container of nodes\n",
    "print(G.edges([2,'m'])) # shows edges from nodes 2 and m\n",
    "print(G.degree([2,3])) # degree of nodes 2 and 3"
   ]
  },
  {
   "cell_type": "markdown",
   "metadata": {},
   "source": [
    "Can also access edges and neighbors with subscripts. These are not read only."
   ]
  },
  {
   "cell_type": "code",
   "execution_count": 28,
   "metadata": {},
   "outputs": [
    {
     "name": "stdout",
     "output_type": "stream",
     "text": [
      "{2: {}, 3: {}}\n",
      "\n",
      " {}\n"
     ]
    }
   ],
   "source": [
    "print(G[1]) #sames as G.adj[1]\n",
    "print('\\n', G[1][2]) #same as G.edges[1,2]"
   ]
  },
  {
   "cell_type": "markdown",
   "metadata": {},
   "source": [
    "# Attributes"
   ]
  },
  {
   "cell_type": "markdown",
   "metadata": {},
   "source": [
    "can be added to graphs, edges and nodes in the form of key/value pair dictionary objects."
   ]
  },
  {
   "cell_type": "code",
   "execution_count": 29,
   "metadata": {},
   "outputs": [
    {
     "data": {
      "text/plain": [
       "{'day': 'Tuesday'}"
      ]
     },
     "execution_count": 29,
     "metadata": {},
     "output_type": "execute_result"
    }
   ],
   "source": [
    "# assign attributes to graph\n",
    "K=nx.Graph(day=\"Tuesday\")\n",
    "K.graph"
   ]
  },
  {
   "cell_type": "code",
   "execution_count": 30,
   "metadata": {},
   "outputs": [
    {
     "data": {
      "text/plain": [
       "{'day': 'Monday'}"
      ]
     },
     "execution_count": 30,
     "metadata": {},
     "output_type": "execute_result"
    }
   ],
   "source": [
    "K.graph['day']=\"Monday\"\n",
    "K.graph"
   ]
  },
  {
   "cell_type": "code",
   "execution_count": 31,
   "metadata": {},
   "outputs": [
    {
     "data": {
      "text/plain": [
       "NodeDataView({1: {'time': '2pm', 'room': 42}, 2: {'time': '12am'}, 3: {'time': '12am'}})"
      ]
     },
     "execution_count": 31,
     "metadata": {},
     "output_type": "execute_result"
    }
   ],
   "source": [
    "#assign attribute to a node\n",
    "K.add_node(1,time='2pm')\n",
    "K.add_nodes_from([2,3],time='12am')\n",
    "K.nodes[1]['room']=42\n",
    "K.nodes.data()"
   ]
  },
  {
   "cell_type": "code",
   "execution_count": 32,
   "metadata": {},
   "outputs": [
    {
     "data": {
      "text/plain": [
       "EdgeDataView([(1, 2, {'weight': 4.7}), (3, 4, {'color': 'red'}), (3, 5, {'color': 'blue'}), (4, 5, {'color': 'red'})])"
      ]
     },
     "execution_count": 32,
     "metadata": {},
     "output_type": "execute_result"
    }
   ],
   "source": [
    "#assign attribute to an edge\n",
    "K.add_edge(1,2,weight=4.7)\n",
    "K.add_edges_from([(3,4),(4,5),(3,5)],color='red')\n",
    "K[3][5]['color']='blue'\n",
    "K.edges.data()"
   ]
  },
  {
   "cell_type": "code",
   "execution_count": 33,
   "metadata": {},
   "outputs": [
    {
     "name": "stdout",
     "output_type": "stream",
     "text": [
      "{9: {'object':    a  b\n",
      "0  0  0\n",
      "1  1  2\n",
      "2  2  4}}\n"
     ]
    }
   ],
   "source": [
    "# An attribute can also be any object\n",
    "import pandas as pd\n",
    "df = pd.DataFrame([{'a': i, 'b': 2 * i} for i in range(3)])\n",
    "\n",
    "G.add_edge(8,9, object = df)\n",
    "\n",
    "print(G.adj[8])"
   ]
  },
  {
   "cell_type": "code",
   "execution_count": 34,
   "metadata": {},
   "outputs": [
    {
     "name": "stdout",
     "output_type": "stream",
     "text": [
      "{1: {2: {'weight': 0.125}, 3: {'weight': 0.75}}, 2: {1: {'weight': 0.125}, 4: {'weight': 1.2}}, 3: {1: {'weight': 0.75}, 4: {'weight': 0.375}}, 4: {2: {'weight': 1.2}, 3: {'weight': 0.375}}}\n"
     ]
    }
   ],
   "source": [
    "# For weighted edges, can also use weight attribute\n",
    "FG = nx.Graph()\n",
    "FG.add_weighted_edges_from([(1, 2, 0.125), (1, 3, 0.75), (2, 4, 1.2), (3, 4, 0.375)])\n",
    "print(FG.adj)"
   ]
  },
  {
   "cell_type": "code",
   "execution_count": 35,
   "metadata": {},
   "outputs": [
    {
     "name": "stdout",
     "output_type": "stream",
     "text": [
      "[(1, 2), (1, 3), (2, 4), (3, 4)]\n",
      "\n",
      " [(1, 2, 0.125), (1, 3, 0.75), (2, 4, 1.2), (3, 4, 0.375)]\n"
     ]
    }
   ],
   "source": [
    "# .edges gives just edges. .edges.data includes attribute dictionaries\n",
    "# .edges.data('attr') includes just attribute value interested in\n",
    "print(FG.edges)\n",
    "print('\\n',FG.edges.data('weight'))"
   ]
  },
  {
   "cell_type": "markdown",
   "metadata": {},
   "source": [
    "# Operations"
   ]
  },
  {
   "cell_type": "markdown",
   "metadata": {},
   "source": [
    "Many classic graph operations are built in.\n",
    "- union(G1,G2)           \n",
    "- disjoint_union(G1,G2) \n",
    "- cartesian_product(G1,G2) \n",
    "- compose(G1,G2)           - combine graphs identifying nodes common to both\n",
    "- complement(G)           \n",
    "- create_empty_copy(G)     - return an empty copy of the same graph class\n",
    "- to_undirected(G) - return an undirected representation of G\n",
    "- to_directed(G)   - return a directed representation of G"
   ]
  },
  {
   "cell_type": "code",
   "execution_count": 36,
   "metadata": {},
   "outputs": [
    {
     "data": {
      "text/plain": [
       "NodeView(('m', 1, 2))"
      ]
     },
     "execution_count": 36,
     "metadata": {},
     "output_type": "execute_result"
    }
   ],
   "source": [
    "nx.subgraph(G, [1,2,'m']).nodes"
   ]
  },
  {
   "cell_type": "markdown",
   "metadata": {},
   "source": [
    "# Analysis"
   ]
  },
  {
   "cell_type": "markdown",
   "metadata": {},
   "source": [
    "NetworkX also has many analysis algorithms. Will explore these more further down."
   ]
  },
  {
   "cell_type": "code",
   "execution_count": 37,
   "metadata": {},
   "outputs": [
    {
     "name": "stdout",
     "output_type": "stream",
     "text": [
      "[{'m', 1, 2, 3}, {'s'}, {'p'}, {'a'}, {'spam'}, {8, 9}]\n",
      "[0, 0, 0, 0, 1, 1, 1, 1, 2, 2]\n",
      "{1: 0, 2: 0, 3: 0, 's': 0, 'p': 0, 'a': 0, 'm': 0, 'spam': 0, 8: 0, 9: 0}\n"
     ]
    }
   ],
   "source": [
    "print(list(nx.connected_components(G)))\n",
    "print(sorted(d for n, d in G.degree()))\n",
    "print(nx.clustering(G))"
   ]
  },
  {
   "cell_type": "code",
   "execution_count": 38,
   "metadata": {},
   "outputs": [
    {
     "data": {
      "text/plain": [
       "{1: {1: [1], 2: [1, 2], 3: [1, 3], 'm': [1, 3, 'm']},\n",
       " 2: {2: [2], 1: [2, 1], 3: [2, 1, 3], 'm': [2, 1, 3, 'm']},\n",
       " 3: {3: [3], 1: [3, 1], 'm': [3, 'm'], 2: [3, 1, 2]},\n",
       " 's': {'s': ['s']},\n",
       " 'p': {'p': ['p']},\n",
       " 'a': {'a': ['a']},\n",
       " 'm': {'m': ['m'], 3: ['m', 3], 1: ['m', 3, 1], 2: ['m', 3, 1, 2]},\n",
       " 'spam': {'spam': ['spam']},\n",
       " 8: {8: [8], 9: [8, 9]},\n",
       " 9: {9: [9], 8: [9, 8]}}"
      ]
     },
     "execution_count": 38,
     "metadata": {},
     "output_type": "execute_result"
    }
   ],
   "source": [
    "dict(nx.all_pairs_shortest_path(G))"
   ]
  },
  {
   "cell_type": "markdown",
   "metadata": {},
   "source": [
    "# Directed Graphs"
   ]
  },
  {
   "cell_type": "code",
   "execution_count": 39,
   "metadata": {},
   "outputs": [
    {
     "name": "stdout",
     "output_type": "stream",
     "text": [
      "[(1, 2), (1, 3), (3, 'm'), (8, 9)]\n",
      "[(1, 2), (1, 3), (2, 1), (3, 1), (3, 'm'), ('m', 3), (8, 9), (9, 8)]\n"
     ]
    }
   ],
   "source": [
    "# G is not a directional graph, but can create from G and use both directions\n",
    "print(G.edges)\n",
    "DG=nx.DiGraph(G)\n",
    "print(DG.edges())"
   ]
  },
  {
   "cell_type": "code",
   "execution_count": 40,
   "metadata": {
    "scrolled": true
   },
   "outputs": [
    {
     "name": "stdout",
     "output_type": "stream",
     "text": [
      "[(0, 1), (1, 2), (2, 3)]\n"
     ]
    }
   ],
   "source": [
    "# If pass in list, directions will follow order of tuples\n",
    "edgelist = [(0, 1), (1, 2), (2, 3)]\n",
    "DG = nx.DiGraph(edgelist)\n",
    "print(DG.edges)"
   ]
  },
  {
   "cell_type": "code",
   "execution_count": 41,
   "metadata": {},
   "outputs": [],
   "source": [
    "# add weighted edges\n",
    "DG.add_weighted_edges_from([(1, 2, 0.5), (1,5,0.2), (3, 1, 0.75)])"
   ]
  },
  {
   "cell_type": "code",
   "execution_count": 42,
   "metadata": {},
   "outputs": [
    {
     "data": {
      "text/plain": [
       "OutEdgeDataView([(0, 1, {}), (1, 2, {'weight': 0.5}), (1, 5, {'weight': 0.2}), (2, 3, {}), (3, 1, {'weight': 0.75})])"
      ]
     },
     "execution_count": 42,
     "metadata": {},
     "output_type": "execute_result"
    }
   ],
   "source": [
    "DG.edges.data()"
   ]
  },
  {
   "cell_type": "code",
   "execution_count": 43,
   "metadata": {},
   "outputs": [
    {
     "name": "stdout",
     "output_type": "stream",
     "text": [
      "1\n",
      "1\n",
      "2\n"
     ]
    }
   ],
   "source": [
    "#degree returns sum of in_degree and out_degree\n",
    "print(DG.out_degree(2))\n",
    "print(DG.in_degree(2))\n",
    "print(DG.degree(2))"
   ]
  },
  {
   "cell_type": "code",
   "execution_count": 44,
   "metadata": {},
   "outputs": [
    {
     "data": {
      "text/plain": [
       "0.7"
      ]
     },
     "execution_count": 44,
     "metadata": {},
     "output_type": "execute_result"
    }
   ],
   "source": [
    "# return out degree, weighted by weight\n",
    "DG.out_degree(1, weight='weight')"
   ]
  },
  {
   "cell_type": "code",
   "execution_count": 45,
   "metadata": {},
   "outputs": [
    {
     "name": "stdout",
     "output_type": "stream",
     "text": [
      "[2, 5]\n",
      "[2, 5]\n",
      "[0, 3]\n"
     ]
    }
   ],
   "source": [
    "# if use neighbors on a DiGraph, will give same result as successors\n",
    "print(list(DG.successors(1)))\n",
    "print(list(DG.neighbors(1)))\n",
    "print(list(DG.predecessors(1)))"
   ]
  },
  {
   "cell_type": "code",
   "execution_count": 46,
   "metadata": {},
   "outputs": [
    {
     "name": "stdout",
     "output_type": "stream",
     "text": [
      "[(1, 2), (1, 5)]\n",
      "[(1, 2), (1, 5)]\n",
      "[(0, 1), (3, 1)]\n"
     ]
    }
   ],
   "source": [
    "# edges on a DiGraph will give same result as out_edges\n",
    "print(DG.out_edges(1))\n",
    "print(DG.edges(1))\n",
    "print(DG.in_edges(1))"
   ]
  },
  {
   "cell_type": "markdown",
   "metadata": {},
   "source": [
    "# Multigraphs"
   ]
  },
  {
   "cell_type": "markdown",
   "metadata": {},
   "source": [
    "Multigraphs allow multiple edges between pairs of nodes"
   ]
  },
  {
   "cell_type": "code",
   "execution_count": 47,
   "metadata": {},
   "outputs": [],
   "source": [
    "MG = nx.MultiGraph()\n",
    "MG.add_weighted_edges_from([(1, 2, 0.5), (1, 2, 0.75), (2, 3, 0.5)])"
   ]
  },
  {
   "cell_type": "code",
   "execution_count": 48,
   "metadata": {},
   "outputs": [
    {
     "data": {
      "text/plain": [
       "{1: 1.25, 2: 1.75, 3: 0.5}"
      ]
     },
     "execution_count": 48,
     "metadata": {},
     "output_type": "execute_result"
    }
   ],
   "source": [
    "# Some algorithms are not well defined for multigraphs and aren't available\n",
    "# degree is:\n",
    "dict(MG.degree(weight='weight'))"
   ]
  },
  {
   "cell_type": "code",
   "execution_count": 49,
   "metadata": {},
   "outputs": [
    {
     "data": {
      "text/plain": [
       "[1, 2, 3]"
      ]
     },
     "execution_count": 49,
     "metadata": {},
     "output_type": "execute_result"
    }
   ],
   "source": [
    "# for algorithms that aren't well defined on multigraphs, \n",
    "# convert to a regular graph first in a meaningful way\n",
    "# ex. shortest path where keep edge with lowest weight\n",
    "GG = nx.Graph()\n",
    "for n, nbrs in MG.adjacency():\n",
    "    for nbr, edict in nbrs.items():\n",
    "        minvalue = min([d['weight'] for d in edict.values()])\n",
    "        GG.add_edge(n, nbr, weight = minvalue)\n",
    "\n",
    "nx.shortest_path(GG, 1, 3)\n"
   ]
  },
  {
   "cell_type": "markdown",
   "metadata": {},
   "source": [
    "# Generating Graphs"
   ]
  },
  {
   "cell_type": "markdown",
   "metadata": {},
   "source": [
    "Some classic graphs are included in the package: petersen, tutte, sedgewick maze, tetrahedral"
   ]
  },
  {
   "cell_type": "code",
   "execution_count": 50,
   "metadata": {},
   "outputs": [
    {
     "data": {
      "text/plain": [
       "{'name': 'Platonic Tetrahedral graph'}"
      ]
     },
     "execution_count": 50,
     "metadata": {},
     "output_type": "execute_result"
    }
   ],
   "source": [
    "tet = nx.tetrahedral_graph()\n",
    "tet.graph"
   ]
  },
  {
   "cell_type": "markdown",
   "metadata": {},
   "source": [
    "also classic constructive graph generators for the larger ones like: complete, bipartite, barbell, lollipop"
   ]
  },
  {
   "cell_type": "code",
   "execution_count": 51,
   "metadata": {},
   "outputs": [],
   "source": [
    "K_5 = nx.complete_graph(5)\n",
    "lollipop = nx.lollipop_graph(10, 20)"
   ]
  },
  {
   "cell_type": "markdown",
   "metadata": {},
   "source": [
    "And classic stochastic graph generators: erods-renyi, watts-strogatz, barabasi-albert, and random lobster"
   ]
  },
  {
   "cell_type": "code",
   "execution_count": 52,
   "metadata": {},
   "outputs": [],
   "source": [
    "red = nx.random_lobster(100, 0.9, 0.9)"
   ]
  },
  {
   "cell_type": "markdown",
   "metadata": {},
   "source": [
    "# Drawing"
   ]
  },
  {
   "cell_type": "markdown",
   "metadata": {},
   "source": [
    "NetworkX is built for analysis, not graph visualization. But works with Matplotlib and Graphiz"
   ]
  },
  {
   "cell_type": "code",
   "execution_count": 53,
   "metadata": {},
   "outputs": [],
   "source": [
    "import matplotlib.pyplot as plt"
   ]
  },
  {
   "cell_type": "code",
   "execution_count": 54,
   "metadata": {},
   "outputs": [
    {
     "data": {
      "image/png": "[encoded data removed]",
      "text/plain": [
       "<Figure size 432x288 with 1 Axes>"
      ]
     },
     "metadata": {},
     "output_type": "display_data"
    }
   ],
   "source": [
    "nx.draw(G, with_labels=True, font_weight='bold')"
   ]
  },
  {
   "cell_type": "code",
   "execution_count": 55,
   "metadata": {},
   "outputs": [
    {
     "data": {
      "image/png": "[encoded data removed]",
      "text/plain": [
       "<Figure size 432x288 with 4 Axes>"
      ]
     },
     "metadata": {},
     "output_type": "display_data"
    }
   ],
   "source": [
    "# can specify different layouts\n",
    "options = {\n",
    "    'node_color': 'red',\n",
    "    'node_size': 100,\n",
    "    'width': 3,\n",
    "}\n",
    "\n",
    "plt.subplot(221)\n",
    "nx.draw_random(G, **options)\n",
    "\n",
    "plt.subplot(222)\n",
    "nx.draw_circular(G, **options)\n",
    "\n",
    "plt.subplot(223)\n",
    "nx.draw_spring(G, **options)\n",
    "\n",
    "plt.subplot(224)\n",
    "nx.draw_shell(G,nlist=[[1,2,3,8,9],['s','p','a','m','spam']], **options)"
   ]
  },
  {
   "cell_type": "markdown",
   "metadata": {},
   "source": [
    "# More Functions\n",
    "degree_histogram\n",
    "density\n",
    "add_cycle\n",
    "\n",
    "https://networkx.github.io/documentation/stable/reference/functions.html\n",
    "\n"
   ]
  },
  {
   "cell_type": "markdown",
   "metadata": {},
   "source": [
    "# More Algorithms\n",
    "https://networkx.github.io/documentation/stable/reference/algorithms/index.html\n",
    "use graph generators and airlines and test -\n",
    "https://www.analyticsvidhya.com/blog/2018/04/introduction-to-graph-theory-network-analysis-python-codes/\n",
    "degree centrality\n",
    "closeness centrality\n",
    "betweenness centrality\n",
    "\n",
    "breadth first search\n",
    "depth first search\n",
    "\n",
    "shortest path\n",
    "topological sort\n",
    "bridges\n",
    "cycle\n",
    "pagerank\n",
    "edit_distance\n"
   ]
  },
  {
   "cell_type": "raw",
   "metadata": {},
   "source": [
    "keep applications pretty simple, sticking to networkX package. \n",
    "EoN is where want to get more involved \n",
    "\n",
    "# Application - shortest flight path\n",
    "https://www.analyticsvidhya.com/blog/2018/09/introduction-graph-theory-applications-python/\n",
    "    "
   ]
  },
  {
   "cell_type": "raw",
   "metadata": {},
   "source": [
    "# Application - Postman Problem\n",
    "https://www.datacamp.com/community/tutorials/networkx-python-graph-tutorial\n",
    "    "
   ]
  },
  {
   "cell_type": "raw",
   "metadata": {},
   "source": [
    "# Application community detection with Girvan-Newman\n",
    "https://www.analyticsvidhya.com/blog/2020/04/community-detection-graphs-networks/"
   ]
  }
 ],
 "metadata": {
  "kernelspec": {
   "display_name": "Python 3",
   "language": "python",
   "name": "python3"
  },
  "language_info": {
   "codemirror_mode": {
    "name": "ipython",
    "version": 3
   },
   "file_extension": ".py",
   "mimetype": "text/x-python",
   "name": "python",
   "nbconvert_exporter": "python",
   "pygments_lexer": "ipython3",
   "version": "3.8.3"
  }
 },
 "nbformat": 4,
 "nbformat_minor": 2
}
