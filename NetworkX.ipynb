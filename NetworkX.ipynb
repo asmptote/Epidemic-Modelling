{
 "cells": [
  {
   "cell_type": "markdown",
   "metadata": {},
   "source": [
    "This notebook is for learning NetworkX package. <br>\n",
    "Resources: \n",
    "* https://networkx.github.io/documentation/stable/tutorial.html#analyzing-graphs\n",
    "* https://www.datacamp.com/community/tutorials/networkx-python-graph-tutorial\n",
    "* https://www.analyticsvidhya.com/blog/2018/09/introduction-graph-theory-applications-python/\n",
    "* https://www.analyticsvidhya.com/blog/2020/04/community-detection-graphs-networks/\n"
   ]
  },
  {
   "cell_type": "code",
   "execution_count": 1,
   "metadata": {},
   "outputs": [],
   "source": [
    "import networkx as nx"
   ]
  },
  {
   "cell_type": "code",
   "execution_count": 30,
   "metadata": {},
   "outputs": [],
   "source": [
    "#create empty graph\n",
    "G=nx.Graph()"
   ]
  },
  {
   "cell_type": "code",
   "execution_count": 14,
   "metadata": {},
   "outputs": [
    {
     "data": {
      "text/plain": [
       "networkx.classes.graph.Graph"
      ]
     },
     "execution_count": 14,
     "metadata": {},
     "output_type": "execute_result"
    }
   ],
   "source": [
    "type(G)"
   ]
  },
  {
   "cell_type": "markdown",
   "metadata": {},
   "source": [
    "# Nodes"
   ]
  },
  {
   "cell_type": "markdown",
   "metadata": {},
   "source": [
    "Nodes can be any hashable object, including customized objects - strings, images, XML, other graphs"
   ]
  },
  {
   "cell_type": "code",
   "execution_count": 31,
   "metadata": {},
   "outputs": [
    {
     "data": {
      "text/plain": [
       "NodeView((1,))"
      ]
     },
     "execution_count": 31,
     "metadata": {},
     "output_type": "execute_result"
    }
   ],
   "source": [
    "#add a single node\n",
    "G.add_node(1)\n",
    "G.nodes"
   ]
  },
  {
   "cell_type": "code",
   "execution_count": 32,
   "metadata": {},
   "outputs": [
    {
     "data": {
      "text/plain": [
       "NodeView((1, 2, 3))"
      ]
     },
     "execution_count": 32,
     "metadata": {},
     "output_type": "execute_result"
    }
   ],
   "source": [
    "#add list of nodes\n",
    "G.add_nodes_from([2,3])\n",
    "G.nodes"
   ]
  },
  {
   "cell_type": "code",
   "execution_count": 143,
   "metadata": {},
   "outputs": [
    {
     "name": "stdout",
     "output_type": "stream",
     "text": [
      "[0, 1, 2, 3, 4, 5, 6, 7, 8, 9]\n"
     ]
    },
    {
     "data": {
      "text/plain": [
       "NodeView((0, 1, 2, 3, 4, 5, 6, 7, 8, 9, 10, 11, 12, 13, 14))"
      ]
     },
     "execution_count": 143,
     "metadata": {},
     "output_type": "execute_result"
    }
   ],
   "source": [
    "#add container of nodes - the nodes of H are now nodes of G\n",
    "H = nx.path_graph(10)\n",
    "print(H.nodes)\n",
    "\n",
    "G.add_nodes_from(H)\n",
    "G.nodes"
   ]
  },
  {
   "cell_type": "code",
   "execution_count": 49,
   "metadata": {},
   "outputs": [
    {
     "data": {
      "text/plain": [
       "NodeView((1, 2, 3, 'spam', 's', 'p', 'a', 'm'))"
      ]
     },
     "execution_count": 49,
     "metadata": {},
     "output_type": "execute_result"
    }
   ],
   "source": [
    "# add_node adds entire object\n",
    "# add_nodes_from breaks object apart\n",
    "G.add_node(\"spam\")        # adds node \"spam\"\n",
    "G.add_nodes_from(\"spam\")  # adds 4 nodes: 's', 'p', 'a', 'm'\n",
    "\n",
    "G.nodes"
   ]
  },
  {
   "cell_type": "code",
   "execution_count": 144,
   "metadata": {},
   "outputs": [
    {
     "data": {
      "text/plain": [
       "NodeView((0, 1, 2, 3, 4, 5, 6, 7, 8, 9, 10, 11, 12, 13, 14, <networkx.classes.graph.Graph object at 0x000001DCA80A0D68>))"
      ]
     },
     "execution_count": 144,
     "metadata": {},
     "output_type": "execute_result"
    }
   ],
   "source": [
    "# Add graph H as a node to G. Now have graph of graphs\n",
    "G.add_node(H)\n",
    "G.nodes"
   ]
  },
  {
   "cell_type": "code",
   "execution_count": 145,
   "metadata": {},
   "outputs": [
    {
     "name": "stdout",
     "output_type": "stream",
     "text": [
      "[0, 1, 2, 3, 4, 5, 6, 7, 8, 9, 10, 11, 12, 13, 14, 15]\n"
     ]
    }
   ],
   "source": [
    "# can convert the node objects to integers with:\n",
    "G=nx.convert_node_labels_to_integers(G)\n",
    "print(G.nodes)"
   ]
  },
  {
   "cell_type": "markdown",
   "metadata": {},
   "source": [
    "# Edges"
   ]
  },
  {
   "cell_type": "code",
   "execution_count": 35,
   "metadata": {},
   "outputs": [
    {
     "data": {
      "text/plain": [
       "EdgeView([(1, 2)])"
      ]
     },
     "execution_count": 35,
     "metadata": {},
     "output_type": "execute_result"
    }
   ],
   "source": [
    "# add a single edge\n",
    "G.add_edge(1,2)\n",
    "G.edges"
   ]
  },
  {
   "cell_type": "code",
   "execution_count": 36,
   "metadata": {},
   "outputs": [
    {
     "data": {
      "text/plain": [
       "EdgeView([(1, 2), (2, 3)])"
      ]
     },
     "execution_count": 36,
     "metadata": {},
     "output_type": "execute_result"
    }
   ],
   "source": [
    "# add single edge from tuple, unpack with '*'\n",
    "e=(2,3)\n",
    "G.add_edge(*e)\n",
    "G.edges"
   ]
  },
  {
   "cell_type": "code",
   "execution_count": 37,
   "metadata": {},
   "outputs": [
    {
     "data": {
      "text/plain": [
       "EdgeView([(1, 2), (1, 3), (2, 3)])"
      ]
     },
     "execution_count": 37,
     "metadata": {},
     "output_type": "execute_result"
    }
   ],
   "source": [
    "# add from list\n",
    "e1=[(1,2),(1,3)]\n",
    "G.add_edges_from(e1)\n",
    "G.edges"
   ]
  },
  {
   "cell_type": "code",
   "execution_count": 38,
   "metadata": {},
   "outputs": [
    {
     "name": "stdout",
     "output_type": "stream",
     "text": [
      "[(0, 1), (1, 2), (2, 3), (3, 4), (4, 5), (5, 6), (6, 7), (7, 8), (8, 9)]\n"
     ]
    },
    {
     "data": {
      "text/plain": [
       "EdgeView([(1, 2), (1, 3), (1, 0), (2, 3), (3, 4), (4, 5), (5, 6), (6, 7), (7, 8), (8, 9)])"
      ]
     },
     "execution_count": 38,
     "metadata": {},
     "output_type": "execute_result"
    }
   ],
   "source": [
    "# An ebunch is an iterable container of edge-tuples\n",
    "print(H.edges)\n",
    "\n",
    "G.add_edges_from(H.edges)\n",
    "G.edges"
   ]
  },
  {
   "cell_type": "markdown",
   "metadata": {},
   "source": [
    "# Removing Nodes and Edges"
   ]
  },
  {
   "cell_type": "code",
   "execution_count": 97,
   "metadata": {},
   "outputs": [
    {
     "name": "stdout",
     "output_type": "stream",
     "text": [
      "[1, 2, 3, 'spam', 's', 'p', 'a', 'm']\n",
      "[(1, 2), (1, 3), (3, 'm')]\n",
      "[1, 3, 'spam', 's', 'p', 'a', 'm']\n",
      "[(1, 3), (3, 'm')]\n"
     ]
    }
   ],
   "source": [
    "print(G.nodes);print(G.edges)\n",
    "\n",
    "G.remove_node(2)\n",
    "print('\\n',G.nodes);print(G.edges)"
   ]
  },
  {
   "cell_type": "code",
   "execution_count": 98,
   "metadata": {},
   "outputs": [
    {
     "name": "stdout",
     "output_type": "stream",
     "text": [
      "[1, 3, 'spam']\n"
     ]
    }
   ],
   "source": [
    "G.remove_nodes_from(\"spam\")\n",
    "print(G.nodes)"
   ]
  },
  {
   "cell_type": "code",
   "execution_count": 99,
   "metadata": {},
   "outputs": [
    {
     "name": "stdout",
     "output_type": "stream",
     "text": [
      "[(1, 3)]\n",
      "\n",
      " []\n"
     ]
    }
   ],
   "source": [
    "print(G.edges)\n",
    "\n",
    "G.remove_edge(1,3)\n",
    "print('\\n',G.edges)"
   ]
  },
  {
   "cell_type": "markdown",
   "metadata": {},
   "source": [
    "# Duplicate Handling"
   ]
  },
  {
   "cell_type": "code",
   "execution_count": 235,
   "metadata": {},
   "outputs": [],
   "source": [
    "G.clear()"
   ]
  },
  {
   "cell_type": "markdown",
   "metadata": {},
   "source": [
    "If add a node or edge that already exists, NetworkX ignores "
   ]
  },
  {
   "cell_type": "code",
   "execution_count": 151,
   "metadata": {},
   "outputs": [
    {
     "name": "stdout",
     "output_type": "stream",
     "text": [
      "[1, 2, 3]\n",
      "[(1, 2), (1, 3)]\n"
     ]
    }
   ],
   "source": [
    "# adding these edges, also adds the nodes\n",
    "G.add_edges_from([(1, 2), (1, 3)])\n",
    "print(G.nodes); print(G.edges)"
   ]
  },
  {
   "cell_type": "code",
   "execution_count": 152,
   "metadata": {},
   "outputs": [
    {
     "name": "stdout",
     "output_type": "stream",
     "text": [
      "[1, 2, 3]\n",
      "[(1, 2), (1, 3)]\n"
     ]
    }
   ],
   "source": [
    "# Adding nodes and edges that already exist doesn't change graph\n",
    "G.add_node(1)\n",
    "G.add_edge(1, 2)\n",
    "\n",
    "print(G.nodes); print(G.edges)"
   ]
  },
  {
   "cell_type": "markdown",
   "metadata": {},
   "source": [
    "# View Graph Properties"
   ]
  },
  {
   "cell_type": "markdown",
   "metadata": {},
   "source": [
    "these properties of the graph are continuously updated and read-only. Act like dictionaries"
   ]
  },
  {
   "cell_type": "code",
   "execution_count": 153,
   "metadata": {},
   "outputs": [],
   "source": [
    "# build up graph again\n",
    "G.add_nodes_from(\"spam\")\n",
    "G.add_node(\"spam\")\n",
    "G.add_edge(3,'m')"
   ]
  },
  {
   "cell_type": "code",
   "execution_count": 116,
   "metadata": {},
   "outputs": [
    {
     "name": "stdout",
     "output_type": "stream",
     "text": [
      "8\n",
      "3\n"
     ]
    }
   ],
   "source": [
    "# Already shown .edges and .nodes\n",
    "# There's also .number_of_nodes() and .number_of_edges()\n",
    "print(G.number_of_nodes())\n",
    "print(G.number_of_edges())"
   ]
  },
  {
   "cell_type": "code",
   "execution_count": 117,
   "metadata": {},
   "outputs": [
    {
     "name": "stdout",
     "output_type": "stream",
     "text": [
      "{1: {2: {}, 3: {}}, 2: {1: {}}, 3: {1: {}, 'm': {}}, 's': {}, 'p': {}, 'a': {}, 'm': {3: {}}, 'spam': {}}\n",
      "\n",
      " [2, 3]\n",
      "\n",
      " [2, 3]\n"
     ]
    }
   ],
   "source": [
    "#adjacency view shows adjacent nodes\n",
    "print(G.adj)\n",
    "print('\\n',list(G.adj[1]))\n",
    "\n",
    "#neighbors is similar but different type\n",
    "print('\\n',list(G.neighbors(1)))"
   ]
  },
  {
   "cell_type": "code",
   "execution_count": 118,
   "metadata": {},
   "outputs": [
    {
     "name": "stdout",
     "output_type": "stream",
     "text": [
      "[(1, 2), (2, 1), (3, 2), ('s', 0), ('p', 0), ('a', 0), ('m', 1), ('spam', 0)]\n"
     ]
    }
   ],
   "source": [
    "# degree view shows the degree of each node\n",
    "print(G.degree)"
   ]
  },
  {
   "cell_type": "code",
   "execution_count": 119,
   "metadata": {},
   "outputs": [
    {
     "name": "stdout",
     "output_type": "stream",
     "text": [
      "(1, AtlasView({2: {}, 3: {}}))\n",
      "(2, AtlasView({1: {}}))\n",
      "(3, AtlasView({1: {}, 'm': {}}))\n",
      "('s', AtlasView({}))\n",
      "('p', AtlasView({}))\n",
      "('a', AtlasView({}))\n",
      "('m', AtlasView({3: {}}))\n",
      "('spam', AtlasView({}))\n",
      "\n",
      "(2, {})\n",
      "(3, {})\n"
     ]
    }
   ],
   "source": [
    "# iterate using .items()\n",
    "for i in G.adj.items():\n",
    "    print(i)\n",
    "\n",
    "print(\"\")\n",
    "\n",
    "for i in G.adj[1].items():\n",
    "    print(i)"
   ]
  },
  {
   "cell_type": "code",
   "execution_count": 120,
   "metadata": {},
   "outputs": [
    {
     "name": "stdout",
     "output_type": "stream",
     "text": [
      "[(2, 1), ('m', 3)]\n",
      "[(2, 1), (3, 2)]\n"
     ]
    }
   ],
   "source": [
    "# nbunch - view edges and degree from a subset of nodes\n",
    "# Either a node or a container of nodes\n",
    "print(G.edges([2,'m'])) # shows edges from nodes 2 and m\n",
    "print(G.degree([2,3])) # degree of nodes 2 and 3"
   ]
  },
  {
   "cell_type": "markdown",
   "metadata": {},
   "source": [
    "Can also access edges and neighbors with subscripts. These are not read only."
   ]
  },
  {
   "cell_type": "code",
   "execution_count": 161,
   "metadata": {},
   "outputs": [
    {
     "name": "stdout",
     "output_type": "stream",
     "text": [
      "{2: {}, 3: {}}\n",
      "\n",
      " {}\n"
     ]
    }
   ],
   "source": [
    "print(G[1]) #sames as G.adj[1]\n",
    "print('\\n', G[1][2]) #same as G.edges[1,2]"
   ]
  },
  {
   "cell_type": "markdown",
   "metadata": {},
   "source": [
    "# Attributes"
   ]
  },
  {
   "cell_type": "markdown",
   "metadata": {},
   "source": [
    "can be added to graphs, edges and nodes in the form of key/value pair dictionary objects."
   ]
  },
  {
   "cell_type": "code",
   "execution_count": 188,
   "metadata": {},
   "outputs": [
    {
     "data": {
      "text/plain": [
       "{'day': 'Tuesday'}"
      ]
     },
     "execution_count": 188,
     "metadata": {},
     "output_type": "execute_result"
    }
   ],
   "source": [
    "# assign attributes to graph\n",
    "K=nx.Graph(day=\"Tuesday\")\n",
    "K.graph"
   ]
  },
  {
   "cell_type": "code",
   "execution_count": 189,
   "metadata": {},
   "outputs": [
    {
     "data": {
      "text/plain": [
       "{'day': 'Monday'}"
      ]
     },
     "execution_count": 189,
     "metadata": {},
     "output_type": "execute_result"
    }
   ],
   "source": [
    "K.graph['day']=\"Monday\"\n",
    "K.graph"
   ]
  },
  {
   "cell_type": "code",
   "execution_count": 192,
   "metadata": {},
   "outputs": [
    {
     "data": {
      "text/plain": [
       "NodeDataView({1: {'time': '2pm', 'room': 42}, 3: {'time': '12am'}, 2: {'time': '12am'}})"
      ]
     },
     "execution_count": 192,
     "metadata": {},
     "output_type": "execute_result"
    }
   ],
   "source": [
    "#assign attribute to a node\n",
    "K.add_node(1,time='2pm')\n",
    "K.add_nodes_from([2,3],time='12am')\n",
    "K.nodes[1]['room']=42\n",
    "K.nodes.data()"
   ]
  },
  {
   "cell_type": "code",
   "execution_count": 196,
   "metadata": {},
   "outputs": [
    {
     "data": {
      "text/plain": [
       "EdgeDataView([(1, 2, {'weight': 4.7}), (3, 4, {'color': 'red'}), (3, 5, {'color': 'blue'}), (4, 5, {'color': 'red'})])"
      ]
     },
     "execution_count": 196,
     "metadata": {},
     "output_type": "execute_result"
    }
   ],
   "source": [
    "#assign attribute to an edge\n",
    "K.add_edge(1,2,weight=4.7)\n",
    "K.add_edges_from([(3,4),(4,5),(3,5)],color='red')\n",
    "K[3][5]['color']='blue'\n",
    "K.edges.data()"
   ]
  },
  {
   "cell_type": "code",
   "execution_count": 162,
   "metadata": {},
   "outputs": [
    {
     "name": "stdout",
     "output_type": "stream",
     "text": [
      "{9: {'object':    a  b\n",
      "0  0  0\n",
      "1  1  2\n",
      "2  2  4}}\n"
     ]
    }
   ],
   "source": [
    "# An attribute can also be any object\n",
    "import pandas as pd\n",
    "df = pd.DataFrame([{'a': i, 'b': 2 * i} for i in range(3)])\n",
    "\n",
    "G.add_edge(8,9, object = df)\n",
    "\n",
    "print(G.adj[8])"
   ]
  },
  {
   "cell_type": "code",
   "execution_count": 187,
   "metadata": {},
   "outputs": [
    {
     "name": "stdout",
     "output_type": "stream",
     "text": [
      "{1: {2: {'weight': 0.125}, 3: {'weight': 0.75}}, 2: {1: {'weight': 0.125}, 4: {'weight': 1.2}}, 3: {1: {'weight': 0.75}, 4: {'weight': 0.375}}, 4: {2: {'weight': 1.2}, 3: {'weight': 0.375}}}\n"
     ]
    }
   ],
   "source": [
    "# For weighted edges, can also use weight attribute\n",
    "FG = nx.Graph()\n",
    "FG.add_weighted_edges_from([(1, 2, 0.125), (1, 3, 0.75), (2, 4, 1.2), (3, 4, 0.375)])\n",
    "print(FG.adj)"
   ]
  },
  {
   "cell_type": "code",
   "execution_count": 185,
   "metadata": {},
   "outputs": [
    {
     "name": "stdout",
     "output_type": "stream",
     "text": [
      "[(1, 2), (1, 3), (2, 4), (3, 4)]\n",
      "\n",
      " [(1, 2, 0.125), (1, 3, 0.75), (2, 4, 1.2), (3, 4, 0.375)]\n"
     ]
    }
   ],
   "source": [
    "# .edges gives just edges. .edges.data includes attribute dictionaries\n",
    "# .edges.data('attr') includes just attribute value interested in\n",
    "print(FG.edges)\n",
    "print('\\n',FG.edges.data('weight'))"
   ]
  },
  {
   "cell_type": "markdown",
   "metadata": {},
   "source": [
    "# Directed Graphs"
   ]
  },
  {
   "cell_type": "code",
   "execution_count": 203,
   "metadata": {},
   "outputs": [
    {
     "name": "stdout",
     "output_type": "stream",
     "text": [
      "[(1, 2), (1, 3), (3, 'm'), (8, 9)]\n",
      "[(1, 2), (1, 3), (2, 1), (3, 1), (3, 'm'), ('m', 3), (8, 9), (9, 8)]\n"
     ]
    }
   ],
   "source": [
    "# G is not a directional graph, but can create from G and use both directions\n",
    "print(G.edges)\n",
    "DG=nx.DiGraph(G)\n",
    "print(DG.edges())"
   ]
  },
  {
   "cell_type": "code",
   "execution_count": 212,
   "metadata": {
    "scrolled": true
   },
   "outputs": [
    {
     "name": "stdout",
     "output_type": "stream",
     "text": [
      "[(0, 1), (1, 2), (2, 3)]\n"
     ]
    }
   ],
   "source": [
    "# If pass in list, directions will follow order of tuples\n",
    "edgelist = [(0, 1), (1, 2), (2, 3)]\n",
    "DG = nx.DiGraph(edgelist)\n",
    "print(DG.edges)"
   ]
  },
  {
   "cell_type": "code",
   "execution_count": 219,
   "metadata": {},
   "outputs": [],
   "source": [
    "# add weighted edges\n",
    "DG.add_weighted_edges_from([(1, 2, 0.5), (1,5,0.2), (3, 1, 0.75)])"
   ]
  },
  {
   "cell_type": "code",
   "execution_count": 214,
   "metadata": {},
   "outputs": [
    {
     "data": {
      "text/plain": [
       "OutEdgeDataView([(0, 1, {}), (1, 2, {'weight': 0.5}), (2, 3, {}), (3, 1, {'weight': 0.75})])"
      ]
     },
     "execution_count": 214,
     "metadata": {},
     "output_type": "execute_result"
    }
   ],
   "source": [
    "DG.edges.data()"
   ]
  },
  {
   "cell_type": "code",
   "execution_count": 225,
   "metadata": {},
   "outputs": [
    {
     "name": "stdout",
     "output_type": "stream",
     "text": [
      "1\n",
      "1\n",
      "2\n"
     ]
    }
   ],
   "source": [
    "#degree returns sum of in_degree and out_degree\n",
    "print(DG.out_degree(2))\n",
    "print(DG.in_degree(2))\n",
    "print(DG.degree(2))"
   ]
  },
  {
   "cell_type": "code",
   "execution_count": 220,
   "metadata": {},
   "outputs": [
    {
     "data": {
      "text/plain": [
       "0.7"
      ]
     },
     "execution_count": 220,
     "metadata": {},
     "output_type": "execute_result"
    }
   ],
   "source": [
    "# return out degree, weighted by weight\n",
    "DG.out_degree(1, weight='weight')"
   ]
  },
  {
   "cell_type": "code",
   "execution_count": 230,
   "metadata": {},
   "outputs": [
    {
     "name": "stdout",
     "output_type": "stream",
     "text": [
      "[2, 5]\n",
      "[2, 5]\n",
      "[0, 3]\n"
     ]
    }
   ],
   "source": [
    "# if use neighbors on a DiGraph, will give same result as successors\n",
    "print(list(DG.successors(1)))\n",
    "print(list(DG.neighbors(1)))\n",
    "print(list(DG.predecessors(1)))"
   ]
  },
  {
   "cell_type": "code",
   "execution_count": 234,
   "metadata": {},
   "outputs": [
    {
     "name": "stdout",
     "output_type": "stream",
     "text": [
      "[(1, 2), (1, 5)]\n",
      "[(1, 2), (1, 5)]\n",
      "[(0, 1), (3, 1)]\n"
     ]
    }
   ],
   "source": [
    "# edges on a DiGraph will give same result as out_edges\n",
    "print(DG.out_edges(1))\n",
    "print(DG.edges(1))\n",
    "print(DG.in_edges(1))"
   ]
  },
  {
   "cell_type": "markdown",
   "metadata": {},
   "source": [
    "# Multigraphs"
   ]
  },
  {
   "cell_type": "markdown",
   "metadata": {},
   "source": [
    "Multigraphs allow multiple edges between pairs of nodes"
   ]
  }
 ],
 "metadata": {
  "kernelspec": {
   "display_name": "Python 3",
   "language": "python",
   "name": "python3"
  },
  "language_info": {
   "codemirror_mode": {
    "name": "ipython",
    "version": 3
   },
   "file_extension": ".py",
   "mimetype": "text/x-python",
   "name": "python",
   "nbconvert_exporter": "python",
   "pygments_lexer": "ipython3",
   "version": "3.7.1"
  }
 },
 "nbformat": 4,
 "nbformat_minor": 2
}
